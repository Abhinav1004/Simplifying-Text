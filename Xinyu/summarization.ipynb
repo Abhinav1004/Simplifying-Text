{
 "cells": [
  {
   "cell_type": "markdown",
   "metadata": {},
   "source": [
    "# Summarization via BART model (pretrained on the CNNDM) and simplification via T5 model (pretrained on the wikilarge)"
   ]
  },
  {
   "cell_type": "markdown",
   "metadata": {},
   "source": [
    "## Problems:  \n",
    "1. factual errors after summarization (the reason could be in the small amount of sentenses)\n",
    "2. "
   ]
  },
  {
   "cell_type": "markdown",
   "metadata": {},
   "source": [
    "## TODO:  \n",
    "1. try different amount of sentences for summarization  \n",
    "2. try another models (maybe smaller models will work better)"
   ]
  },
  {
   "cell_type": "markdown",
   "metadata": {},
   "source": [
    "### Summarization"
   ]
  },
  {
   "cell_type": "markdown",
   "metadata": {},
   "source": [
    "#### BRIO"
   ]
  },
  {
   "cell_type": "code",
   "execution_count": 1,
   "metadata": {},
   "outputs": [
    {
     "name": "stderr",
     "output_type": "stream",
     "text": [
      "/home/blinova/.conda/envs/simple/lib/python3.9/site-packages/tqdm/auto.py:22: TqdmWarning: IProgress not found. Please update jupyter and ipywidgets. See https://ipywidgets.readthedocs.io/en/stable/user_install.html\n",
      "  from .autonotebook import tqdm as notebook_tqdm\n"
     ]
    }
   ],
   "source": [
    "from transformers import BartTokenizer, PegasusTokenizer\n",
    "from transformers import BartForConditionalGeneration, PegasusForConditionalGeneration\n",
    "import pandas as pd\n",
    "# import nltk\n",
    "# nltk.download('punkt')\n",
    "from nltk.tokenize import sent_tokenize\n",
    "\n",
    "IS_CNNDM = True # whether to use CNNDM dataset or XSum dataset\n",
    "LOWER = False\n",
    "\n",
    "res = {\"document\": [], \"summary_brio\": [], \"summary_bart\": [], \"summary_t5\": []}\n",
    "# Load our model checkpoints\n",
    "if IS_CNNDM:\n",
    "    model = BartForConditionalGeneration.from_pretrained('Yale-LILY/brio-cnndm-uncased')\n",
    "    tokenizer = BartTokenizer.from_pretrained('Yale-LILY/brio-cnndm-uncased')\n",
    "else:\n",
    "    model = PegasusForConditionalGeneration.from_pretrained('Yale-LILY/brio-xsum-cased')\n",
    "    tokenizer = PegasusTokenizer.from_pretrained('Yale-LILY/brio-xsum-cased')\n",
    "\n",
    "df = pd.read_csv('resources/datasets/epfl_news/epfl_news_filtered_data_train.csv')\n",
    "# number of sentences\n",
    "n = 4\n",
    "# number of examples in exp\n",
    "for num in range(5):\n",
    "    summary_full = []\n",
    "    doc = sent_tokenize(df.document.iloc[num])\n",
    "    sents = [' '.join(doc[i:i+n]) for i in range(0, len(doc), n)]\n",
    "    if len(doc) % n != 0:\n",
    "        sents[-2:] = [' '.join(sents[-2:])]\n",
    "    for ARTICLE_TO_SUMMARIZE in sents:\n",
    "        max_length = 512\n",
    "        # generation example\n",
    "        if LOWER:\n",
    "            article = ARTICLE_TO_SUMMARIZE.lower()\n",
    "        else:\n",
    "            article = ARTICLE_TO_SUMMARIZE\n",
    "        inputs = tokenizer([article], max_length=max_length, return_tensors=\"pt\", truncation=True)\n",
    "        # Generate Summary\n",
    "        summary_ids = model.generate(inputs[\"input_ids\"])\n",
    "        summary = tokenizer.batch_decode(summary_ids, skip_special_tokens=True, clean_up_tokenization_spaces=False)[0]\n",
    "        summary_full.append(summary)\n",
    "        # print('Original: ', ARTICLE_TO_SUMMARIZE)\n",
    "        # print('Summary: ', summary)\n",
    "        # print()\n",
    "    res[\"document\"].append(' '.join(sents))\n",
    "    res[\"summary_brio\"].append(' '.join(summary_full))"
   ]
  },
  {
   "cell_type": "markdown",
   "metadata": {},
   "source": [
    "#### BART"
   ]
  },
  {
   "cell_type": "code",
   "execution_count": 2,
   "metadata": {},
   "outputs": [
    {
     "name": "stderr",
     "output_type": "stream",
     "text": [
      "Your max_length is set to 142, but you input_length is only 87. You might consider decreasing max_length manually, e.g. summarizer('...', max_length=43)\n",
      "Your max_length is set to 142, but you input_length is only 90. You might consider decreasing max_length manually, e.g. summarizer('...', max_length=45)\n",
      "Your max_length is set to 142, but you input_length is only 119. You might consider decreasing max_length manually, e.g. summarizer('...', max_length=59)\n",
      "Your max_length is set to 142, but you input_length is only 117. You might consider decreasing max_length manually, e.g. summarizer('...', max_length=58)\n",
      "Your max_length is set to 142, but you input_length is only 129. You might consider decreasing max_length manually, e.g. summarizer('...', max_length=64)\n",
      "Your max_length is set to 142, but you input_length is only 116. You might consider decreasing max_length manually, e.g. summarizer('...', max_length=58)\n",
      "Your max_length is set to 142, but you input_length is only 84. You might consider decreasing max_length manually, e.g. summarizer('...', max_length=42)\n",
      "Your max_length is set to 142, but you input_length is only 104. You might consider decreasing max_length manually, e.g. summarizer('...', max_length=52)\n",
      "Your max_length is set to 142, but you input_length is only 109. You might consider decreasing max_length manually, e.g. summarizer('...', max_length=54)\n",
      "Your max_length is set to 142, but you input_length is only 118. You might consider decreasing max_length manually, e.g. summarizer('...', max_length=59)\n"
     ]
    }
   ],
   "source": [
    "from transformers import pipeline\n",
    "import pandas as pd\n",
    "from nltk.tokenize import sent_tokenize\n",
    "# nltk.download('punkt')\n",
    "\n",
    "summarizer = pipeline(\"summarization\", model=\"facebook/bart-large-cnn\")\n",
    "\n",
    "df = pd.read_csv('resources/datasets/epfl_news/epfl_news_filtered_data_train.csv')\n",
    "n = 4\n",
    "for num in range(5):\n",
    "    summary_full = []\n",
    "    doc = sent_tokenize(df.document.iloc[num])\n",
    "    sents = [' '.join(doc[i:i+n]) for i in range(0, len(doc), n)]\n",
    "    if len(doc) % n != 0:\n",
    "        sents[-2:] = [' '.join(sents[-2:])]\n",
    "    for ARTICLE in sents:\n",
    "        # print('Original: ', ARTICLE)\n",
    "        # print('Summary: ', summarizer(ARTICLE, min_length=30, do_sample=False)[0]['summary_text'])\n",
    "        # print()\n",
    "        # res[\"summary_bart\"].append(summarizer(ARTICLE, min_length=30, do_sample=False)[0]['summary_text'])\n",
    "        summary_full.append(summarizer(ARTICLE, min_length=30, do_sample=False)[0]['summary_text'])\n",
    "    res[\"summary_bart\"].append(' '.join(summary_full))"
   ]
  },
  {
   "cell_type": "markdown",
   "metadata": {},
   "source": [
    "#### T5"
   ]
  },
  {
   "cell_type": "code",
   "execution_count": 3,
   "metadata": {},
   "outputs": [],
   "source": [
    "import torch\n",
    "from transformers import T5Tokenizer, T5ForConditionalGeneration\n",
    "\n",
    "model = T5ForConditionalGeneration.from_pretrained('t5-small')\n",
    "tokenizer = T5Tokenizer.from_pretrained('t5-small')\n",
    "device = torch.device(\"cuda:0\" if torch.cuda.is_available() else \"cpu\")\n",
    "df = pd.read_csv('resources/datasets/epfl_news/epfl_news_filtered_data_train.csv')\n",
    "n = 4\n",
    "for num in range(5):\n",
    "    summary_full = []\n",
    "    doc = sent_tokenize(df.document.iloc[num])\n",
    "    sents = [' '.join(doc[i:i+n]) for i in range(0, len(doc), n)]\n",
    "    if len(doc) % n != 0:\n",
    "        sents[-2:] = ['\\n'.join(sents[-2:])]\n",
    "    for ARTICLE in sents:\n",
    "        t5_prepared_Text = \"summarize: \"+ARTICLE\n",
    "        # print (\"original text preprocessed: \\n\", ARTICLE)\n",
    "        tokenized_text = tokenizer.encode(t5_prepared_Text, return_tensors=\"pt\").to(device)\n",
    "\n",
    "\n",
    "        # summmarize \n",
    "        summary_ids = model.generate(tokenized_text,\n",
    "                                    num_beams=4,\n",
    "                                    no_repeat_ngram_size=2,\n",
    "                                    min_length=30,\n",
    "                                    max_length=100,\n",
    "                                    early_stopping=True)\n",
    "\n",
    "        output = tokenizer.decode(summary_ids[0], skip_special_tokens=True)\n",
    "        summary_full.append(output)\n",
    "        # print (\"\\n\\nSummarized text: \\n\",output)\n",
    "    res[\"summary_t5\"].append(' '.join(summary_full))\n",
    "result_cnndm = pd.DataFrame(res)\n",
    "result_cnndm.to_csv('resources/datasets/epfl_news/summary_4sent.csv')"
   ]
  },
  {
   "cell_type": "code",
   "execution_count": 1,
   "metadata": {},
   "outputs": [],
   "source": [
    "# from IPython.display import display, HTML\n",
    "# raw_html = pd.DataFrame.from_dict(result_cnndm).to_html()\n",
    "# display(HTML(raw_html))"
   ]
  },
  {
   "cell_type": "markdown",
   "metadata": {},
   "source": [
    "### Simplification"
   ]
  },
  {
   "cell_type": "code",
   "execution_count": 4,
   "metadata": {},
   "outputs": [
    {
     "name": "stderr",
     "output_type": "stream",
     "text": [
      "[nltk_data] Downloading package stopwords to\n",
      "[nltk_data]     /home/blinova/nltk_data...\n",
      "[nltk_data]   Package stopwords is already up-to-date!\n",
      "[nltk_data] Downloading package punkt to /home/blinova/nltk_data...\n",
      "[nltk_data]   Package punkt is already up-to-date!\n"
     ]
    },
    {
     "name": "stdout",
     "output_type": "stream",
     "text": [
      "******** LOAD MODEL ********\n",
      "******** GENERATE SIMPLE DOCUMENT ********\n"
     ]
    }
   ],
   "source": [
    "import nltk\n",
    "from nltk.tokenize import sent_tokenize\n",
    "# nltk.download('punkt')\n",
    "import pandas as pd\n",
    "from Ts_T5 import T5FineTuner\n",
    "\n",
    "print(\"******** LOAD MODEL ********\")\n",
    "model = T5FineTuner.load_from_checkpoint('experiments/exp_wikilarge_oldloss/checkpoint-epoch=5.ckpt')\n",
    "print('******** GENERATE SIMPLE DOCUMENT ********')\n",
    "df = pd.read_csv(\"resources/datasets/epfl_news/summary_4sent.csv\")\n",
    "\n",
    "def generate_simple_document(doc):\n",
    "    split_lst = sent_tokenize(doc)\n",
    "    gen_list = []\n",
    "    for i, seq in enumerate(split_lst):\n",
    "        gen = model.generate(seq)\n",
    "        gen_list.append(gen)\n",
    "    return \" \".join(gen_list)\n",
    "\n",
    "df['simple_brio'] = df['summary_brio'].apply(lambda x:generate_simple_document(x))\n",
    "df['simple_bart'] = df['summary_bart'].apply(lambda x:generate_simple_document(x))\n",
    "df['simple_t5'] = df['summary_t5'].apply(lambda x:generate_simple_document(x))\n",
    "df['simple_document'] = df['document'].apply(lambda x:generate_simple_document(x))\n",
    "df.to_csv('resources/datasets/epfl_news/sum_simple_4sent.csv')"
   ]
  },
  {
   "cell_type": "code",
   "execution_count": 7,
   "metadata": {},
   "outputs": [],
   "source": [
    "df.to_excel('resources/datasets/epfl_news/sum_simple_4sent.xlsx') "
   ]
  },
  {
   "cell_type": "markdown",
   "metadata": {},
   "source": [
    "### Length analysis"
   ]
  },
  {
   "cell_type": "code",
   "execution_count": 43,
   "metadata": {},
   "outputs": [
    {
     "name": "stdout",
     "output_type": "stream",
     "text": [
      "Len of the complex document 649\n",
      "Len of the simple document 628\n",
      "Len of the summary document 285\n",
      "Len of the simle summary document 293\n"
     ]
    }
   ],
   "source": [
    "print('Compare lens for BRIO')\n",
    "print('Len of the complex document', len(df.document.iloc[0].split(' ')))\n",
    "print('Len of the simple document', len(df.simple_document.iloc[0].split(' ')))\n",
    "print('Len of the summary document', len(df.summary_brio.iloc[0].split(' ')))\n",
    "print('Len of the simle summary document', len(df.simple_brio.iloc[0].split(' ')))"
   ]
  },
  {
   "cell_type": "code",
   "execution_count": 5,
   "metadata": {},
   "outputs": [
    {
     "data": {
      "text/html": [
       "<table border=\"1\" class=\"dataframe\">\n",
       "  <thead>\n",
       "    <tr style=\"text-align: right;\">\n",
       "      <th></th>\n",
       "      <th>Unnamed: 0</th>\n",
       "      <th>document</th>\n",
       "      <th>summary_brio</th>\n",
       "      <th>summary_bart</th>\n",
       "      <th>summary_t5</th>\n",
       "      <th>simple_brio</th>\n",
       "      <th>simple_bart</th>\n",
       "      <th>simple_t5</th>\n",
       "      <th>simple_document</th>\n",
       "    </tr>\n",
       "  </thead>\n",
       "  <tbody>\n",
       "    <tr>\n",
       "      <th>0</th>\n",
       "      <td>0</td>\n",
       "      <td>The rising number of drones in air space poses numerous challenges. Topping that list is our ability to simply detect these small unmanned aerial vehicles. Periodic near-misses between drones and large airplanes raise the specter of disaster, and the drones themselves often lack the necessary technology to locate other moving objects. To address these issues, EPFL researchers have developed algorithms capable of detecting and tracking small flying objects using a simple camera.\\nThe proof of concept was conducted as part of a PhD dissertation, and a real-time detection and collision avoidance system is now being developed in a project funded by the Commission for Technology and Innovation (CTI).Today’s collision avoidance systems operate actively: an airplane in flight calculates its position, altitude and course, and communicates this information to other aircraft using the same technology. Those aircraft can then evaluate the risk of a collision based on their own positioning data and, if necessary, alert the pilot. But this system is only effective as long as all aircraft are equipped with the same technology. In reality, drones often lack such systems, which are costly and heavy and consume more power.Artificial intelligence and Deep learningA camera can thus be an effective, non-cooperative (i.e., not every aircraft must be equipped with it) addition to that system, provided the camera can successfully detect a flying drone.\\nTherein lay the obstacle that researchers at EPFL's Computer Vision Laboratory (CVLAB) sought to overcome. The biggest challenge for a moving camera is to spot another moving object. This is much more difficult on a drone than it is on a car, which only moves in two dimensions. Drones move in three dimensions, and the camera is called on to detect objects against the sky or the ground, depending on the angle of sight.\\nPlus, drones need to locate objects as quickly as possible, such as when they are still fuzzy black dots against a dark forest. And the fact that no two drones look alike anymore – new models are constantly being developed – meant that the researchers had to find a way to teach the camera to recognize all sorts of drones.In his thesis, Artem Rozantsev showed that these challenges can be overcome. The first step consisted in using artificial intelligence and deep learning to teach the camera to recognize drones. His method combined information on both appearance (types of drones, position, etc.)\\nand motion (movement in the camera's field of view), as neither alone was capable of achieving sufficiently reliable detection. He therefore proposed a machine-learning technique that operates on spatio-temporal cubes of image intensities where individual patches are aligned using a regression-based motion stabilization algorithm.Real-time performance and accuracyBut the recognition algorithm on its own was not enough. To train a detector to recognize all types of drones in all kinds of positions, it has to have \"seen\" as many as possible. The existing database of images, however, is limited.\\nSo Rozantsev filled in the gaps by generating realistic synthetic images. The generated images, which are based only on a small set of real examples and a coarse 3D model of the object, are used together with the real examples to train the detector. A key ingredient to his method, the generated images are as close as possible to the real ones – not in terms of image quality, but according to the features used by the machine-learning algorithm.The researchers managed to develop a reliable algorithm capable of detecting a drone using a lightweight camera similar to those found in smartphones. The aim of the project, now financed by the CTI, is to train a detector using an even larger data set to improve its real-time performance and accuracy. EPFL's CVLAB researchers are working on this in collaboration with FLARM Technology AG, the leading supplier of affordable collision avoidance technology for civil aviation. The first commercial models are expected to be released next year.</td>\n",
       "      <td>EPFL researchers have developed algorithms that can detect and track small flying objects using a simple camera. The technology could be used to detect small drones and other objects in air space and prevent near-misses with planes. The researchers say the technology could also be used in the future to detect other objects.\\na real-time detection and collision avoidance system is being developed for drones. The project is funded by the Commission for Technology and Innovation. It uses a camera to detect and avoid collisions with other aircraft in the air. The technology could be used to detect flying drones in real time.\\nEPFL's Computer Vision Laboratory has developed a new way to detect objects in three dimensions. The biggest challenge for a moving camera is to spot another moving object. Researchers at EPFL say the technology could be used to detect drones in the sky and on the ground .\\nresearchers used artificial intelligence and deep learning to teach the camera to recognize drones. Artem Rozantsev's method combined information on appearance, position and type of drone to create the drone recognition system. He says the technology could be used to help locate drones in the wild.\\nmachine-learning technique uses spatio-temporal cubes of image intensities to identify drones. The technique uses a regression-based motion stabilization algorithm to align individual patches of the drone's image in real-time. But the existing database of drone images is limited, says the researcher.\\nresearchers generate synthetic images to train a machine-learning algorithm to detect drones. The images are based on a small set of real examples and a coarse 3D model of the object. EPFL researchers have developed an algorithm capable of detecting drones using a lightweight camera similar to smartphones.</td>\n",
       "      <td>EPFL researchers have developed algorithms capable of detecting and tracking small flying objects using a simple camera. To address these issues, the researchers developed algorithms that can be used to detect and track small drones.\\nA real-time detection and collision avoidance system is now being developed in a project funded by the Commission for Technology and Innovation. The proof of concept was conducted as part of a PhD dissertation.\\nThe biggest challenge for a moving camera is to spot another moving object. This is much more difficult on a drone than it is on a car. Drones move in three dimensions, and the camera is called on to detect objects against the sky or the ground.\\nArtem Rozantsev used artificial intelligence and deep learning to teach the camera to recognize drones. His method combined information on both appearance (types of drones, position, etc.) and position of the drone.\\nMachine-learning technique operates on spatio-temporal cubes of image intensities. Individual patches are aligned using a regression-based motion stabilization algorithm.\\nEPFL researchers have developed a machine-learning algorithm that can detect a drone using a lightweight camera similar to those found in smartphones. The algorithm is based on a small set of real examples and a coarse 3D model of the object. The first commercial models are expected to be released next year.</td>\n",
       "      <td>the rising number of drones in air space poses numerous challenges. to address these issues, EPFL researchers have developed algorithms capable of detecting and tracking small flying objects using a simple camera.\\na real-time detection and collision avoidance system is now being developed. an airplane in flight calculates its position, altitude and course, and communicates this information to other aircraft using the same technology. but this is only effective as long as all aircraft are equipped with that technology, which is costly and heavy and consume more power.\\nthe biggest challenge for a moving camera is to spot another moving object. the camera moves in three dimensions and is called on to detect objects against the sky or the ground, depending on the angle of sight.\\nthe first step consisted in using artificial intelligence and deep learning to teach the camera to recognize drones. his method combined information on both appearance (types of drone, position, etc.)\\nhe proposed a machine-learning technique that operates on spatio-temporal cubes of image intensities. the recognition algorithm on its own was not enough, but it has to have \"seen\" as many as possible.\\nthe generated images are based only on a small set of real examples. they are used together with the real ones to train the detector, which is expected to be released next year in the u.s. the project is financed by the CTI and is being funded by EPFL's CVLAB researchers working on this in collaboration with FLARM Technology AG, the leading supplier of affordable collision avoidance technology.</td>\n",
       "      <td>EPFL researchers have made algorithms that can see and follow small flying objects with a simple camera. The technology can be used to detect small drones and other objects in the air. It can also be used to stop plane crashes. The researchers say the technology could also be used to see things in the future. A real-time detection and collision avoidance system is being made for Drones. The project is given money from the European Commission for Technology. It uses a camera to see if other aircraft are in the air and not crash. The technology can also be used to see flying drones in real time. EPFLs Computer Vision Laboratory has made it possible to see objects in three dimensions. The biggest challenge is to be able to see another moving object. Researchers at EPFL say the technology could be used to see drones in the sky and on the ground. Researchers used artificial intelligence to teach the camera how to recognize drones. Artem Rozantsev used this information together with other information about the type and appearance of a drone. He says the technology could be used to help find and search for drones. Machine-learning technique uses temporal information ( or data ) to identify drones. The technique uses a regression-based motion stability algorithm to make sure that each patch of the drone looks the same in real-time. But the current database of drone images is very few, says the researcher. Researchers use images to train a machine to find out if there are drones. The images are based on a small set of real things and a 3D model of the object. EPFL researchers have made an algorithm that could be used to find drones using a light camera, like smartphones.</td>\n",
       "      <td>EPFL researchers have made algorithms that can be used to find and follow small flying objects using a simple camera. To solve this problem, the researchers made algorithms that can be used to find and follow small drones. A real-time detection and collision avoidance system is now being developed by the European Commission for Science and Technology. The proof of concept was done as part of a Masters degree program. The biggest challenge is to be able to see another moving object. This is much more difficult to do with a drone than with a car. Drones move in three dimensions. The camera can see objects in the sky or on the ground. Artem Rozantsev used artificial intelligence to make the camera know how to spot drones. His method combined information on both appearance and position ( how long it takes to fly ). and position of the drone. Machine-learning technique uses spatiotemporal information such as image intensities. Individual patches are aligned using a software called Motion Stabilization algorithm. EPFL researchers have made a machine-learning algorithm that can tell if a drone is moving from one place to another using a light camera. The algorithm is based on a small set of real examples, and a computer model of the object. The first one is expected to be sold next year.</td>\n",
       "      <td>As more drones are flying in air space, there are many challenges. To address these problems, researchers have made algorithms that can be used to find and follow small flying objects using a simple camera. A real-time detection and collision avoidance system is being developed. An airplane in flight can find out its position, how high it is, and how it will move to other aircraft using the same technology. but this is only useful if all aircraft are equipped with that technology, because it will cost a lot and will use more power. the biggest challenge for a moving camera is to be able to see where it is. The camera moves in three dimensions and can detect objects in the sky or on the ground, depending on how far away it is from the ground. the first part was using artificial intelligence to teach the camera how to recognize drones, using AI. His method combined information on both appearance and position with other information. He made a machine-learning technique that can learn from spatiotemporal data such as images. the recognition algorithm was not enough, but it has to be as easy as possible to understand. the made images are based only on a few very small things. The project is financed by the CTI and is being funded by EPFLs CVLAB researchers working on this together with FLARM Technology AG, the leading supplier of affordable collision avoidance technology, to make it easier for the car to crash into the road.</td>\n",
       "      <td>The increasing number of drones in the air has many challenges. To top that list, we can simply detect these small unmanned aerial vehicles. Occasionally near misses between drones and large airplanes raise the possibility of a disaster. The drones themselves often do not have the technology to find other moving objects. To address these problems, researchers have made algorithms that can be used to find and follow small flying objects using a simple camera. A real-time detection and collision avoidance system is being developed in a project funded by the Commission for Technology and Innovation (CTI ) Today's collision avoidance systems operate actively : the airplane in flight calculates its position, altitude and course ( how high the plane is ), and communicates this information to other aircraft using the same technology. The aircraft can then calculate the risk of a collision based on what they have on their own map. If it is necessary, they will warn the pilot. But this system is only good if all aircraft have the same technology. Artificial intelligence and Deep learningA camera can thus be an effective, non-cooperative ( that is, not every aircraft must be equipped with it ) addition to that system, provided the camera can successfully detect a flying drone, and provide the necessary information to make a good decision. There was an obstacle that researchers at the European Physical Laboratory ( EPFL ) wanted to overcome. The biggest challenge is to be able to see another moving object. This is much more difficult on a drone than a car, because a car can only move in two dimensions. Drones move in three dimensions. The camera can detect objects in the sky or on the ground, depending on how far away they are. Plus, drones need to find objects as quickly as possible, that is very easy when they are still fuzzy black dots in a dark forest. And the fact that no two drones look the same - new models are constantly being developed - meant that the researchers had to find a way to teach the camera to recognize all sorts of different kinds of drones.In his work, Artem Rozantsev showed that there are many things that can be done with drones. The first part was using artificial intelligence to make the camera know how to recognize drones. His method combined information on both appearance and position ( how long it takes to fly ). and motion ( movement in the camera's field of view ), because neither one could detect anything close enough. He therefore proposed a machine-learning technique that operates on spatio-temporal cubes of image intensities where individual patches are aligned using a regression-based motion stabilization algorithm.Real-time performance and accuracy But the recognition algorithm was not enough. To train a drone to recognize all types of flying machines in all kinds of places, it has to have the most people possible. The current database of images, however, is very small. So Rozantsev filled in the gap, by making realistic pictures with real people. The generated images, which are only based on a small set of real examples and a rough 3D model of the object, are used together with the real examples to make the detector more accurate. The researchers worked on making a reliable algorithm that could detect a drone using a lightweight camera similar to those found in smartphones. The researchers were able to develop a reliable algorithm that could detect a drone using a lightweight camera like those found in smartphones. The aim of the project, now paid for by the CTI, is to train a real-time detector to get even more information to improve its performance and accuracy. EPFLs research team is working on this together with FLARM Technology AG, the leading supplier of low cost collision avoidance technology for civil aviation. The first one is expected to be sold next year.</td>\n",
       "    </tr>\n",
       "    <tr>\n",
       "      <th>1</th>\n",
       "      <td>1</td>\n",
       "      <td>Some stars end their lives dramatically. They explode in a halo of light as extremely intense as it is brief – as in, milliseconds. This grand finale, called a supernova, occurs particularly with massive stars that have more than 100 times the mass of the sun.The explosion produces light but simultaneously rejects iron, calcium, sodium, and other heavy elements from the periodic table of elements. Since it is very rare to observe the explosion of a star, it is often from these chemical elements released into the universe that astrophysicists trace, in function of elapsed time, the number and type of supernovae that have exploded.\\nTo shed light on the many questions that remain regarding this difficult-to-observe phenomenon, researchers rely on simulations and theoretical models of all the physical processes present (gravity, momentum, cooling gas, etc. ).For his master’s thesis Alexis Arnaudon is interested in improving simulation software on EPFL’s supercomputer, primarily targeting supernovae in dwarf galaxies. These aggregations of around 10 billion stars (versus 200 to 400 billion for large galaxies) are of particular interest for research on the origin of the formation of galaxies due to their relatively independent evolution from the rest of the universe. Their small mass preserves them from numerous collisions with other galaxies.Arnaudon began by replicating the explosion of an isolated star.\\nThe goal was to correct some faults of the program and to improve resolution. Using a new supernovae model, he also calibrated the software to reproduce the galaxies already observed, Fornax and Carina. These results are a first step toward achieving more accurate models.This phenomenon, which can occur two to three times per century in the Milky Way alone, constitutes a force that is the most destructive and creative in the universe. The shock wave from the supernova promotes the formation of new stars by initiating or accelerating the contraction of regions in the interstellar medium. And these chain reactions begin a process that forms stars, planets, and – why not? It happened on Earth – plants, air, and so on. “We now know that the vast amount of material and energy they eject is fundamental to creating a new galaxy,” explains the student.</td>\n",
       "      <td>a supernova produces light but rejects iron, calcium, sodium and other heavy elements from the periodic table of elements. astrophysicists trace the number and type of supernovae from the chemical elements released into the universe. The explosion occurs in massive stars with more than 100 times the mass of the sun.\\nAlexis Arnaudon is studying supernovae in dwarf galaxies for his master's thesis at EPFL. dwarf galaxies are of particular interest for research on the origin of the universe. he is interested in improving simulation software on EPFL’s supercomputer.\\na new supernovae model has been developed to reproduce galaxies already observed. The shock wave from a supernova promotes the formation of new stars. The phenomenon can occur two to three times per century in the Milky Way. The student hopes to improve the accuracy of the supernova models.</td>\n",
       "      <td>The explosion produces light but simultaneously rejects iron, calcium, sodium, and other heavy elements from the periodic table of elements. It is often from these chemical elements released into the universe that astrophysicists trace, in function of elapsed time, the number and type of supernovae that have exploded.\\nAlexis Arnaudon is interested in improving simulation software on EPFL’s supercomputer. He is primarily targeting supernovae in dwarf galaxies. These aggregations of around 10 billion stars are of particular interest for research.\\nThe shock wave from a supernova promotes the formation of new stars by initiating or accelerating the contraction of regions in the interstellar medium. These chain reactions begin a process that forms stars, planets, and – why not? It happened on Earth.</td>\n",
       "      <td>a supernova occurs particularly with massive stars that have more than 100 times the mass of the sun. the explosion produces light but simultaneously rejects iron, calcium, sodium, and other heavy elements from the periodic table of elements.\\nresearchers rely on simulations and theoretical models of all the physical processes present (gravity, momentum, cooling gas, etc.) for his master's thesis, Alexis Arnaudon is interested in improving simulation software on EPFL’s supercomputer.\\nthe goal was to correct some faults of the program and to improve resolution. he calibrated the software to reproduce the galaxies already observed, Fornax and Carina. the shock wave from the supernova promotes the formation of new stars by initiating or accelerating the contraction of regions in the interstellar medium.</td>\n",
       "      <td>The supernova also produces light but does not include iron, calcium, sodium and other heavy elements in the periodic table. Scientists look at the number and type of supernovae that are made from the chemical elements in the universe. The explosion happens in big stars. They have more than 100 times the mass of the sun. Alexis Arnaudon is currently studying supernovae in dwarf galaxies at the Massachusetts Institute of Technology. Dwarf galaxies are important for research on where the universe started. He is also interested in making the simulation software for EPFLs supercomputer. A new supernovae model has been made to do the same things as the ones seen. The shock wave from a supernova helps to make new stars and planets. The phenomenon can happen about two to three times per century in the Milky Way. The student hopes that this will help the accuracy of the supernova models.</td>\n",
       "      <td>The explosion makes light but also takes out iron, calcium, sodium, and other heavy elements from the periodic table. It is often the chemical elements released into the universe that astrophysicists find out about the number and type of supernovae that have exploded, depending on how long they have. Alexis Arnaudon is interested in making the simulation software for the EPFL supercomputer. He is looking at supernovae in dwarf galaxies instead. These 10 billion stars are very big and are good for research. The shock wave from a supernova promotes the formation of new stars. It starts or speeds up the contraction of regions in the interstellar medium. These chain reactions begin a process that makes the Universe, stars, and planets. It happened on Earth.</td>\n",
       "      <td>A supernova happens, especially with big stars, that have more than 100 times the mass of the sun. The explosion makes light but also takes out iron, calcium, sodium, and other heavy elements from the periodic table of elements. Research using simulations and theorems uses all the physical processes that are there ( gravity, momentum, cooling gas ). For his master's thesis, Alexis Arnaudon wants to make simulation software on a supercomputer like EPFL. the goal was to fix some problems and to improve resolution over time. He then calibrated the software so that it can reproduce the galaxies that he saw. the shock wave from the supernova promotes the formation of new stars. It starts or speeds up the contraction of regions in the interstellar medium.</td>\n",
       "      <td>Some stars end their lives very quickly. They explode in a halo of light as very intense, lasting for only a few seconds. This grand finale, called a supernova, happens particularly with massive stars that have more than 100 times the mass of the sun. The explosion makes light but also takes out iron, calcium, sodium, and other heavy elements from the periodic table of elements. Since it is very rare to see an explosion of a star, it is often from these chemical elements released into the universe that Astrophysicists find out. They do not know the number and type of supernovae that have exploded. To find out more about this phenomenon, researchers use simulations and theoretic models of all the physical processes present ( gravity, momentum, cooling gas, etc. ). For his masters thesis Alexis Arnaudon is interested in improving simulation software on EPFLs supercomputer, and wants to do research on supernovae in dwarf galaxies. These aggregations of around 10 billion stars ( versus 200 to 400 billion for large galaxies ) are of particular interest to scientists because they are able to figure out how galaxies formed, because they are not related to the rest of the universe. Their small mass keeps them from numerous collisions with other galaxiesArnaudon began by doing the same thing as an isolated star did. The goal was to fix some problems and to make resolution more useful. Using a new supernovae model, he also calibrated the software so that it can reproduce the galaxies Fornax and Carina. These results are a first step toward making more accurate models. This phenomenon, which can happen two to three times per century in the Milky Way alone, makes a force that is most destructive in the universe and causes many problems. The shock wave from the supernova promotes the formation of new stars. It starts or speeds up the contraction of regions in the interstellar medium. And these chain reactions begin a process that makes the Universe, planets, and everything. It happened on Earth, in plants and in air. We now know that the vast amount of material and energy they release is very important to creating a new galaxy.</td>\n",
       "    </tr>\n",
       "    <tr>\n",
       "      <th>2</th>\n",
       "      <td>2</td>\n",
       "      <td>When they need to change direction, increase their speed or counter headwinds, birds alter the configuration of their wings. To steer, for example, they spread one wing and slightly retract the other. By adjusting their wingspan in this way, they create a calculated imbalance that causes them to turn. Up to now, only birds could do this so effectively.After observing birds in flight, researchers from the Laboratory of Intelligent Systems had the idea of building an energy-efficient winged drone capable of changing its wingspan, flying at high speed and moving through tight spaces.\\nTheir research has just been published in the Royal Society journal Interface Focus.Dario Floreano and his team wanted to develop a bio-inspired drone that could meet various aerodynamic requirements. It had to be capable of flying between obstacles, making sharp turns and coping with strong winds. By changing its geometry mid-flight, the drone can meet all these criteria. The moving part is located on the outer wings.\\nIt works like a bird's quill feathers, which are the large feathers at the edge of the wing. \"We were inspired by birds: they can radically transform the size and shape of their wings because they have an articulated skeleton that is controlled by muscles and covered in feathers that overlap when the wings are folded,\" explained Matteo di Luca. The drone also has feathers that it can fold and overlap like a fan.One of the many challenges was in designing and building the complex morphing mechanism, in other words, mimicking nature to construct the drone. \"It is extremely difficult to find the right balance between aerodynamic efficiency and the weight of the device,\" explained Stefano Mintchev.\\nThe wing is composed mainly of composite materials in order to maximize strength while reducing overall weight.Morphing wings that can adapt to the environment and weather conditions are also an important issue in aeronautics. Engineers are still trying to find the ideal replacement for the rigid wings and ailerons of planes. For Floreano, the head of the Laboratory of Intelligent Systems, this is a promising project: \"With the foldable wings, we discovered that we didn't need ailerons to help the drone turn. By changing the wingspan and surface area during flight, we could make it turn automatically. \"This winged drone therefore opens up new possibilities. Because of its ability to adapt, it could prove very efficient at low altitude, in an urban environment where winds change rapidly.This work was funded by NCCR Robotics.ReferenceDi Luca M, Mintchev S, Heitz G, Noca F, Floreano D. 2017 Bioinspired morphing wings for extended flight envelope and roll control of small drones. Interface Focus 7: 20160092. http://dx.doi.org/10.1098/rsfs.2016.0092Press kithttp://go.epfl.ch/dronelikeabird</td>\n",
       "      <td>researchers at the Laboratory of Intelligent Systems have created a winged drone that can change its wingspan. Only birds have previously been able to do so. The drone can be used to fly at high speed and in tight spaces to change direction and speed. It can change the configuration of its wings to steer.\\nDario Floreano and his team wanted to develop a bio-inspired drone that could meet aerodynamic requirements. The drone is capable of flying between obstacles, making sharp turns and coping with strong winds. The moving part is located on the outer wings of the drone's wings.\\na drone has feathers that fold and overlap like a bird's quill feathers. The design was inspired by birds and mimics the shape and movement of their wings. The drone can also fold and fold like a fan to mimic the shape of the bird's wings. the drone was created in Italy.\\ndronelike drone has foldable wings that can adapt to the environment and weather conditions. The wings are composed of composite materials to maximize strength and reduce weight. The drone could be used in an urban environment to adapt to changing winds. The researchers didn't need ailerons to turn the drone automatically.</td>\n",
       "      <td>Researchers from the Laboratory of Intelligent Systems have created an energy-efficient winged drone. It can change its wingspan to fly at high speed and through tight spaces. Up to now, only birds could do this so effectively.\\nDario Floreano and his team wanted to develop a bio-inspired drone that could meet various aerodynamic requirements. By changing its geometry mid-flight, the drone can meet all these criteria. The moving part is located on the outer wings.\\nThe drone works like a bird's quill feathers, which are the large feathers at the edge of the wing. \"We were inspired by birds: they can radically transform the size and shape of their wings,\" said Matteo di Luca.\\nMorphing wings that can adapt to the environment and weather conditions are also an important issue in aeronautics. Engineers are still trying to find the ideal replacement for the rigid wings and ailerons of planes. The wing is composed mainly of composite materials to maximize strength while reducing overall weight.</td>\n",
       "      <td>birds alter the configuration of their wings to steer, spread one wing and slightly retract the other. by adjusting wingspan in this way, they create a calculated imbalance that causes them to turn.\\na bio-inspired drone could meet various aerodynamic requirements. it had to be capable of flying between obstacles, making sharp turns and coping with strong winds. the moving part is located on the outer wings.\\nthe drone can radically transform the size and shape of their wings. it has an articulated skeleton that is controlled by muscles and covered in feathers that overlap when the wings are folded.\\nengineers are still trying to find the ideal replacement for the rigid wings and ailerons of planes. the wing is composed of composite materials in order to maximize strength while reducing overall weight. morphing wings for extended flight envelope and roll control of small drones.</td>\n",
       "      <td>researchers at the Laboratory of Intelligent Systems have created a live-action drone that looks like a live bird. Only birds have been able to do so. A drone can be used to fly at high speed and in tight spaces to change direction and speed. It can change the way the wings are set up. Dario Floreano and his team wanted to make a drone that could fly very fast and meet some aerodynamic requirements. The drone can fly between different types of obstacles, make sharp turns and deal with strong winds. The moving part of the drone is in the center of the wings. A drone has feathers that fold and overlap like a bird's feathers. The design was based on birds and looks exactly like the shape of their wings. The drone can also fold like a fan to make the wings look like a bird's wings. The camera was made in Italy. A drone like this one has foldable wings that can change the way it is flying. The wings are made of materials so they are more strong and less weight. The drone could be used in an urban place to change the way the wind moves. The researchers did not need any special tools to turn the drone.</td>\n",
       "      <td>Researchers from the Laboratory of Intelligent Systems have created a very small but powerful drone. It can also change its wingspan so that it can fly at very high speed. Up until now, only birds could do this very well. Dario Floreano and his team wanted to make a robot that could fly very fast and meet different aerodynamic requirements. By changing its shape mid-flight, the drone can do many things well. The moving part of the body is on the inner wings. The drone works like a bird's quill feathers. The feathers on the edge of a bird are called feathers. Birds can change the size and shape of their wings very dramatically, said Matteo di Luca. Morphing wings that can change the environment and weather are also important things that people do in aeronautics. Engineers are still trying to find a replacement for the rigid plane wings that were used before. The wing is made mainly of composite materials so that it is stronger while reducing its overall weight.</td>\n",
       "      <td>Birds change the way their wings are set up so they can spread one wing and slightly retract the other. by adjusting the wingspan in this way, they create a balanced movement and make the bird turn. A bio-inspired drone could meet different aerodynamical needs. It had to be able to fly between different types of obstacles, making sharp turns and dealing with strong winds. The moving part of the body is on the outer wings. the drone can change the size and shape of its wings very quickly. It has a well defined body that is controlled by muscles and covered in feathers. This makes it overlap when the wings are folded. Engineers are still trying to find a replacement for the rigid plane wings and ailerons. The wing is made of materials so that it is more strong while reducing overall weight. Changed wings for longer flight time and roll control of small drones.</td>\n",
       "      <td>When they need to change direction, increase their speed or try to counter the headwinds, they can change their wings. To steer, for example, they spread one eye and slightly retract the other eye. By adjusting their wingspan this way, they create a certain amount of pressure that makes them turn. Up to now, only birds could do this so effectively. After observing birds in flight, researchers at the Laboratory of Intelligent Systems thought of a way to make a winged drone that could change its wings length, fly at high speed and move through tight spaces. Their research was published in the Royal Society journal Interface Focus.Dario Floreano and his team wanted to make a drone that could fly very fast and have very little impact. It had to be able to fly between different types of obstacles, make sharp turns and deal with strong winds. By changing its shape mid-flight, the drone can do everything on its own. The moving part of the body is on the inner wings. It works like a bird's quill feathers. The feathers on the edge of a bird are called feathers. They can change the size and shape of their wings very much because they have an articulated skeleton that is controlled by muscles and covered in feathers that overlap when the wings are folded, which gives Matteo di Luca an idea. The drone also has feathers that it can fold and overlap like a fan. One of the challenges was designing and building the complex system that could be used to make the drone look like nature. It is very difficult to find the right balance between the speed and the weight of the device, said Stefano Mintchev. The wing is made mainly of composite materials so as to increase strength while reducing overall weight.Morphing wings that can change to the environment and weather are also important for aeronautics. Engineers are still trying to find a replacement for the rigid plane wings that they have now. Floreano, the head of the Laboratory of Intelligent Systems, said that this is a promising project : '' With the wings, we discovered that we didnt need any ailerons to help the drone turn. By changing the wingspan and surface area during flight, the bird would turn automatically. This winged drone therefore opens up new possibilities. This work was funded by NCCR Robotics.ReferenceDi Luca M, Mintchev S, Heitz G, Noca F, Floreano D. 2017 Bioinspired morphing wings for extended flight envelope and roll control of small drones.ReferenceDi Luca M, Mintchev S, Heitz G, Noca F, Floreano D. 2017 Interface Focus 7 : 20160092. http://dx.doi.org/10.1109/rsfs.2016.0092Press kithttp://www.instrumentalist.org/</td>\n",
       "    </tr>\n",
       "    <tr>\n",
       "      <th>3</th>\n",
       "      <td>3</td>\n",
       "      <td>Immunotherapy, unlike chemotherapy and radiotherapy, arms the body’s immune system to attack cancer cells. In recent years, it has proven to be remarkably successful at treating leukemia, lymphoma and other liquid cancers, or cancers present in body fluids.Chimeric antigen receptor (CAR) T-cell therapy is a type of treatment in which a patient’s T-cells – the body’s most powerful immune cells – are extracted and engineered to recognize and kill cancerous cells. Yet when they target solid tumors, the modified T-cells can also attack healthy tissue, leading to toxicity, major organ damage and potentially even death.A team of researchers from EPFL, the Ludwig Institute for Cancer Research at the University of Lausanne (UNIL), and Lausanne University Hospital (CHUV) have developed a new protein-based method to switch off the modified T cells on command – a sort of emergency safety net for patients who respond badly to treatment. The control system, known as STOP-CAR, has been tested and validated on mice infused with prostate cancer cells.\\nIts discovery could speed the clinical development of new CAR therapies that were previously considered too risky. The team has published its research in the journal Nature Biotechnology.Living drugsAt a basic level, the new control system works in much the same way as existing techniques. T-cells are taken from a patient’s blood then genetically modified so that special receptors – known as chimeric antigen receptors, or CARs – grow on their surface. These receptors enable the modified cell to recognize and bind to cancer cells.\\nA signal is then generated instructing the cell to attack.It’s at this point that the new method differs. Using computational protein design, the researchers re-engineered the receptor so that the signal generated when it binds to a tumor antigen can be switched off, effectively disabling the T-cell.The control system involves administering a molecule to the patient as a separate drug. The T-cell contains naturally binding pairs of proteins that carry information between the receptor and the inner structure of the T-cell. The molecule breaks the interaction between these proteins, thereby disrupting the signal and effectively switching off the cell.“The real advantage of this system is that we can switch the T-cell back on again if we stop administering the molecule,” explains Bruno Correia, one of the paper’s senior authors and a tenure-track assistant professor at the Institute of Bioengineering, part of EPFL’s School of Engineering.\\n“There’s no need to destroy the T-cells if they pose a threat to a patient’s health. The system lets us precisely control the effects of immunotherapy”The benefits don’t end there. Observations have shown that prolonged exposure to antigens can cause T-cell exhaustion. Switching the cells off temporarily gives them time to rest and recuperate. “This work itself, and its potential, is really exciting,” says George Coukos, director of the Branch of the Ludwig Institute for Cancer Research “but I think it is also illustrative of how well-orchestrated, multidisciplinary collaborations can yield significant scientific breakthroughs. Working with EPFL and our other partners in the region, we hope to bring STOP-CAR-T therapy as quickly as possible to cancer patients.”This study was supported by Ludwig Cancer Research, the Biltema and ISREC Foundations, the European Research Council, the National Center of Competence for Molecular Systems Engineering, The Marie Sklodowska-Curie Actions, Whitaker and the National Research Foundation of Korea.</td>\n",
       "      <td>chimeric antigen receptor (CAR) T-cell therapy has been successful at treating leukemia, lymphoma and other liquid cancers. modified T-cells are engineered to attack cancerous cells but can also attack healthy tissue. Researchers have developed a way to switch off the modified T cells on command.\\nnew control system works in the same way as existing CAR therapies. Discovery could speed the development of new CAR therapies that were previously considered too risky. T-cells are taken from a patient's blood and genetically modified to bind to cancer cells in a way that recognises them.\\nEPFL researchers have re-engineered the receptor of the T-cell so it can be switched off. The researchers used computational protein design to switch off the signal generated when the cell binds to a tumor antigen. The system can be controlled by administering a separate drug to the patient.\\nsystem allows scientists to precisely control the effects of immunotherapy. STOP-CAR-T therapy could one day be used to treat cancer patients, says Ludwig Institute for Cancer Research's George Coukos. The system gives T-cells time to rest and recuperate after exposure to antigens.</td>\n",
       "      <td>Immunotherapy arms the body’s immune system to attack cancer cells. In recent years, it has proven to be remarkably successful at treating leukemia, lymphoma and other liquid cancers, or cancers present in body fluids. But when they target solid tumors, the modified T-cells can also attack healthy tissue.\\nT-cells are taken from a patient’s blood then genetically modified so that special receptors – known as chimeric antigen receptors, or CARs – grow on their surface. These receptors enable the modified cell to recognize and bind to cancer cells.\\nThe control system involves administering a molecule to the patient as a separate drug. A signal is then generated instructing the cell to attack. The molecule breaks the interaction between these proteins, thereby disrupting the signal.\\nThe system lets us precisely control the effects of immunotherapy. Switching the cells off temporarily gives them time to rest and recuperate. “This work itself, and its potential, is really exciting,” says George Coukos.</td>\n",
       "      <td>a team of researchers from EPFL, the Ludwig Institute for Cancer Research at the University of Lausanne (UNIL) and the chUV have developed an emergency safety net to switch off the modified T cells on command. the control system, known as STOP-CAR, has been tested and validated on mice infused with prostate cancer cells.\\ndiscovery could speed the development of new CAR therapies that were previously considered too risky. the new control system works in much the same way as existing techniques. T-cells are taken from a patient’s blood then genetically modified so that special receptors – known as chimeric antigen receptor (CARs)) grow on their surface.\\nthe researchers re-engineered the receptor so that the signal generated when it binds to a tumor antigen can be switched off. the molecule breaks the interaction between these proteins, disrupting the signals and effectively switching off the cell.\\nprolonged exposure to antigens can cause T-cell exhaustion. switching off the cells temporarily gives them time to rest and recuperate. this work itself, and its potential, is really exciting, says George Coukos, director of the Ludwig Institute for Cancer Research.</td>\n",
       "      <td>The use of chimeric antigen receptor ( CAR ) T-cell therapy has been effective in treating leukemia and other cancers. Changed T cells are made to attack cancerous cells. They can also attack healthy tissue. Researchers have found a way to turn off the T cells when people want to do it. new control system works the same way as old CAR therapies. Discovery could speed the development of new CAR therapies, because those drugs were thought too risky. T cells are taken from a person's blood and are changed so that they bind to cancer cells in a way that recognises them. EPFL researchers have changed the way the T-cell receptor works so it can be turned off. The researchers used computational protein design. They did this by switching off the signal when the cell binds to a tumor. The system can be controlled by giving a different drug to the patient. This system allows scientists to control how the drugs work on them. STOP-CAR-T therapy could be used to treat cancer patients, according to George Coukos of the Ludwig Institute for Cancer Research. The system gives T-cells time to rest and get better after being exposed to certain drugs.</td>\n",
       "      <td>Immunotherapy helps the body fight cancer cells by attacking them. In recent years, it has been very effective at treating people with leukemia, lymphoma and other liquid cancers, or other cancers in the body. But when they are targeted, the changed T-cells can also attack healthy tissue. T cells are taken from a person's blood and then genetically modified so that special receptors, called chimeric antigen receptors ( CARs ), can grow on their surface. These receptors allow the modified cell to recognize and fix to specific molecules. The control system gives a drug to the patient as a different drug instead of the drug. A signal is then sent to the computer to attack. The molecule breaks the bonds between these proteins, and makes the signal weak. The system lets us control how the drugs work for us. Switching the cells off for a short time gives them time to rest and recover. The work itself, and what it can do, is really exciting, he said.</td>\n",
       "      <td>A group of researchers from the Ludwig Institute for Cancer Research at the University of Lausanne (UNIL ) and the chUV have made a safety net to keep the T cells from being changed on command. the control system, known as STOP-CAR, has been tested on mice with prostate cancer, to see how it works. This discovery could speed the development of new CAR therapies, which at first were not safe to try. the new control system works the same way the old techniques work. T cells are taken from a person's blood and then genetically modified so that special receptors ( called chimeric antigen receptors ) can grow on their surface. the researchers changed the receptor so that the signal generated when it binds to a particular antigen can be switched off. The molecule breaks the bonds between these proteins, which means that the cell stops working. Long periods of exposure to antigens can cause T cell exhaustion. Switching off the cells sometimes gives them time to rest and recover. This work itself, and its potential, is really exciting, says George Coukos, a professor at the Ludwig Institute for Cancer Research.</td>\n",
       "      <td>Immunotherapy, unlike chemotherapy, strengthens the body's ability to fight cancer cells. In recent years, it has been proven to be very effective at treating leukemia, lymphoma and other liquid cancers.Chimeric antigen receptor (CAR ) T-cell therapy is a type of treatment in which the cells that make up a personâ s immune system are made to recognize and kill cancerous cells. A team of researchers from EPFL, the Ludwig Institute for Cancer Research at the University of Lausanne (UNIL ) and Lausanne University Hospital (CHUV ) have made a new way to turn off the modified T cells on command. This way, they can attack healthy tissue, leading to toxicity, major organ damage and possibly even death. The control system, called STOP-CAR, has been tested on mice with prostate cancer, to see if it works. Its discovery could speed the development of new CAR therapies, things that were thought to be too risky. The team has published its research in the journal Nature Biotechnology.Living drugsAt a basic level, the new system works much the same way as before. T cells are taken from a person's blood then they are changed so that special receptors, called chimeric antigen receptors, ( CARs ), can grow on their surface. These receptors allow the modified cell to recognize and fix to specific molecules. A signal is then sent to the cell telling it to attack. At this point, the new method is different. Using computational protein design, the researchers changed the receptor so that the signal generated when it binds to a tumor antigen can be switched off. The control system involves giving a different drug to the patient, so that the drug does not work anymore. The T-cell contains pairs of proteins that carry information between the outside of the cell and the inside of the T-cell. The molecule breaks the interaction between these proteins, causing the signal to go off and the cell shut off. The advantage of this system is that we can switch the T-cell back on again if we stop administering the molecule, explains Bruno Correia, one of the paper's senior authors and a professor at the Institute of Bioengineering, part of EPFL's School of Engineering. There is no need to destroy the T cells if they are dangerous to the health of the person. The system lets us precisely control the effects of immunotherapy by using small tubes. Some studies have shown that long exposure to antigens can cause T-cell exhaustion. Switching the cells off for a short time gives them time to rest and recover. This work itself, and its potential, is really exciting, says George Coukos, director of the Branch of the Ludwig Institute for Cancer Research. Coukos says that the work is also an example of how well-organized collaborations can produce big scientific breakthroughs. This study was supported by Ludwig Cancer Research, the Biltema and ISREC Foundations. It was also supported by the European Research Council, the National Center of Competence for Molecular Systems Engineering, the Marie Sklodowska-Curie Actions, Whitaker, and the National Research Foundation of Korea.</td>\n",
       "    </tr>\n",
       "    <tr>\n",
       "      <th>4</th>\n",
       "      <td>4</td>\n",
       "      <td>17 hours, 19 minutes – that’s the record set last year by a Ticino-based team for visiting each and every Swiss canton while travelling exclusively by public transport. The Swiss Train Challenge was launched by Swiss broadcast journalist Nicolas Rossé in 2015, who made the journey that year in 19 hours, 46 minutes. But that was before the Gotthard tunnel was open. This Friday, a team of EPFL students including two PhD researchers will aim for the record-breaking time of 16 hours, 54 minutes.\\nAnd in a first, their itinerary was calculated by an algorithm rather than by hand.To develop the algorithm, the students first had to download the exact locations of Switzerland’s 22,080 train stations and bus stops as well as the geographical borders of each canton and the full train timetable. They then whittled down the number of train stations to the 110 “significant” ones, i.e., with potentially useful train connections. The next step was to download lists of all trains that go through these stations and their schedules, and see what other stations they go to in order to maximize their utility. This final step is what the students set their algorithm to work on – which it did for no less than ten days before coming up with the optimal itinerary.The devil is in the detail“The first (positive) surprise we got from the algorithm’s itinerary was the travel time: 16 hours, 54 minutes.\\nThat means we can technically beat last year’s record. Not by much, due to the previous teams’ hard work and the redundancies in the Swiss train network, but by enough,” says Emmanuel Clédat, a PhD student at EPFL’s Geodetic Engineering Laboratory. “The second surprise was how prominently Ticino – the canton in the south that borders Italy – features in the itinerary. We thought it would be the end point of our journey or a separate out-and-back side trip of its own.\\nBut instead, it’s a stop on the way to the Canton of Graubünden. That shows that Ticino lies along one of the main routes crossing the country.”The team will leave from St. Maurice, in the Canton of Valais, at 5:24am and end their journey at Jakobsbad, in the Canton of Appenzell Innerrhoden, at 10:18pm. The itinerary takes advantage of Switzerland’s many cantonal enclaves to shorten travel distances as much as possible. However, the route is strewn with obstacles; for instance, at the Alpnachstad train station, in the Half-canton of Obwalden, the students will have zero minutes to change trains.\\n“The previous winners had to make the journey twice to set their record. We might also have to make a few trial runs before we reach our goal,” says Dirk Lauinger, a PhD student at EPFL’s Risk Analytics and Optimization Chair.The pleasure of train travelLauinger’s thesis is on optimizing interactions between electric vehicles and power grids, while Clédat – his roommate with whom he decided to take part in the Challenge – is studying computer-assisted vision. So neither one of them is performing research related directly to the Challenge. Rather, they are motivated by their appreciation of train travel, as are the other students who will join them in their attempt to set a new record.Follow the challenge live on:go.epfl.ch/SwissTrainChallenge18 Contact: [email protected]</td>\n",
       "      <td>Swiss Train Challenge aims to visit each and every Swiss canton by public transport. EPFL students will aim for a record-breaking time of 16 hours, 54 minutes. Last year's record was set in 19 hours, 46 minutes, before the Gotthard tunnel was open.\\nStudents in Switzerland developed an algorithm to calculate an optimal Swiss travel itinerary. The students downloaded the exact locations of Switzerland's 22,080 train stations and bus stops. The algorithm took ten days to work out the optimal route for each destination. It took 16 hours and 54 minutes to travel the country.\\nEPFL team set out to break the world record for the fastest train journey in a single day. Ticino, a canton in the south of the country, features heavily in the itinerary. EPFL say they are hoping to beat last year's record of three days.\\nticino is a stop on the way to the Canton of Graubünden. The students will travel along one of the main routes crossing the country. The itinerary takes advantage of Switzerland's cantonal enclaves to shorten travel distances. The team will travel from the Cantons of Valais to Appenzell Innerrhoden.\\nEPFL students will attempt to set a new record for the longest journey by train in Switzerland. The students are motivated by their appreciation of train travel. The challenge will take place in the Swiss canton of Basel and the cantons of Geneva and Lausanne.</td>\n",
       "      <td>The Swiss Train Challenge was launched by Swiss broadcast journalist Nicolas Rossé in 2015. He made the journey that year in 19 hours, 46 minutes. But that was before the Gotthard tunnel was open. This Friday, a team of EPFL students including two PhD researchers will aim for the record-breaking time.\\nStudents developed an algorithm to calculate an optimal route through Switzerland. The algorithm took ten days to work out the best route. It took 16 hours, 54 minutes to travel the 22,080 stations and bus stops.\\n EPFL student Emmanuel Clédat says he can beat last year’s record. Ticino, the canton in the south that borders Italy, features in the itinerary. “We thought it would be the end point of our journey or a separate out-and-back side trip of its own,” he says.\\nThe team will leave from St. Maurice, in the Canton of Valais, at 5:24am. The itinerary takes advantage of Switzerland’s many cantonal enclaves to shorten travel distances.\\nDirk Lauinger is a PhD student at EPFL's Risk Analytics and Optimization Chair. Lauinger's thesis is on optimizing interactions between electric vehicles and power grids. The previous winners had to make the journey twice to set their record.</td>\n",
       "      <td>the Swiss Train Challenge was launched by Swiss broadcast journalist Nicolas Rossé in 2015. a team of EPFL students including two PhD researchers will aim for the record-breaking time of 16 hours, 54 minutes.\\nthe students first had to download the exact locations of the 22,080 train stations and bus stops as well as the geographical borders of each canton and the full train timetable. they then whittled down the number of trains to the 110 “significant” ones, i.e., with potentially useful train connections.\\nEmmanuel Clédat, a PhD student at EPFL’s geodetic engineering laboratory, says it's the second surprise. Ticino – the canton in the south that borders Italy - features in its itinerary.\\nthe team will leave from St. Maurice, in the Canton of Valais, at 5:24am. they will end their journey at Jakobsbad at 10:18pm.\\ntrain travelLauinger's thesis is on optimizing interactions between electric vehicles and power grids. but neither one of them is performing research related directly to the Challenge, as are the other students who will join them in their attempt to set a new record. the challenge is live on:go.epfl.ch/SwissTrainChallenge18.</td>\n",
       "      <td>The Swiss Train Challenge wants to visit each and every Swiss canton by using public transport. The students will try to run the class in 16 hours and 54 minutes. The previous record was 19 hours, 46 minutes. This was before the Gotthard tunnel opened. Students in Switzerland made an algorithm to find out how to travel to Switzerland. The students could find the exact locations of 22,080 train stations and bus stops in Switzerland. The algorithm took ten days to find the best route for each place. It took them 16 hours to make it across the country. They set a new world record and made it the fastest train journey in one day. Ticino, a canton in the south of the country, is very often included. EPFL say they hope to break the record set last year. ticino goes on a trip to the Canton of Graubünden. The students will go on one of the main routes that will take them across Pakistan. The itinerary takes advantage of Switzerland's cantonal areas so that travel is shorter. The team will travel from the Valais mountains in France to Appenzell. The students will try to set a new record for the longest train journey in Switzerland. The students are happy because they like train travel. The first one will take place in the Swiss canton of Basel and in the German canton of Lausanne.</td>\n",
       "      <td>The Swiss Train Challenge is a challenge that many people take part in. It was started in 2015. He made the journey that day in 19 hours and 46 minutes. But that was before the Gotthard tunnel was opened. This Friday, a group of EPFL students, including two PhD researchers, will set a new record. Students made an algorithm to find a good route through Switzerland. The algorithm took ten days to find the best way to get around. It took 3 hours and 54 minutes to get from the station to the bus stop. Emmanuel Clédat, an EPFL student, says he can do better this year. Ticino, the canton in the south of Italy, is included in the itinerary. We thought it would be the end point of our journey or a different trip on its own... We did not know if it would happen. The team will leave St. Maurice, France, at 5:24 am local time. The itinerary takes advantage of the many cantons in Switzerland to make travel shorter. Dirk Lauinger is a PhD student at the European Polytechnic Institute ( EPFL ). Lauinger's thesis is about improving the interactions between electric vehicles and power grids. The previous winners had to travel twice to set their new record.</td>\n",
       "      <td>The Swiss Train Challenge was started by Swiss broadcast journalist Nicolas Rossé in 2015. A team of EPFL students, including two PhD researchers, want to set a new record for this time. The students first had to find out where the 22,080 train stations and bus stops were. They also had to find out the geographical borders of each canton and the full train timetable. They then cut down the number of trains to the 110 important ones. This means that they had useful train connections. Emmanuel Clédat, a PhD student at EPFLs geodetic engineering laboratory, thought the idea was not new. Ticino - the canton in the south of Italy - is often included in its itinerary. the team will leave St. Maurice, France, at 5:24 am local time. They will end their journey in Jakobsbad at 10:18pm. lecture_work_in_the_thesis is on optimizing interactions between electric vehicles and power grids. but neither one of them is doing research related to the Challenge, as are the other students who will try to make a new record for themselves. The challenge can be watched live on :go.epfl.ch/SwissTrainChallenge18.</td>\n",
       "      <td>17 hours 19 minutes - a team from Ticino set a record for visiting each and every Swiss canton while traveling only by public transport. The Swiss Train Challenge was started by Nicolas Rossé in 2015. He made the journey in 19 hours and 46 minutes in the first week of operation. But that was before the Gotthard tunnel was opened. This Friday, a group of students from EPFL, including two PhD researchers, will try to make this time go to 16 hours. To make the algorithm, the students had to download the exact locations of the 22,080 train stations and bus stops in Switzerland. They also had to find out the geographical borders of each canton and the full train timetable, all at the same time. They then cut down the number of train stations to the 110 important ones. This meant that they had useful train connections. The next step was to get a list of all trains that go through these stations and what schedules they have to use. This would let them see what other stations they go to so they can use more. This final step is what the students set their algorithm to work on - which it did for no less than ten days before coming up with the best possible itinerary. The devil is in the detail : The first ( positive ) surprise the algorithm got was the travel time of 16 hours, 54 minutes. That means we can technically beat the previous record. Not much because of the previous teams work and the new trains needed in the Swiss train network, but by enough, says Emmanuel Clédat, a PhD student at the European Polytechnic ( EPFL ). The second surprise was that Ticino - the canton in the south that borders Italy - is on the list of things to see. We thought it would be the end point of our journey, or a different trip on its own. But instead it goes straight to the Canton of Graubünden. The team will leave St. Maurice, in the canton of Valais at 5:24 am and finish their journey at Jakobsbad, in the canton of Appenzell Innerrhoden at 10:18pm, leaving St. Maurice, in the canton of Valais at 5:24 am. The itinerary takes advantage of the many cantons in Switzerland to make travel times as short as possible. However, the route is full of many obstacles. For example, at the Alpnachstad train station, in the Half-canton of Obwalden, the students will not be able to change trains. The previous winners had to travel twice to set their new record. Dirk Lauinger, a PhD student at EPFLs Risk Analytics and Optimization Chair, says that we might also have to make a few trial runs before we reach our goal. Clédat - his roommate with whom he decided to take part in the Challenge - is studying computer-assisted vision to make sure that the system works as expected. So neither one of them is doing research related to the Challenge itself. They are not only happy about the train travel, but also love the other students who will join them in their attempt to set a new record.Follow the challenge live on :go.epfl.ch/SwissTrainChallenge18 Contact : [email protected ]</td>\n",
       "    </tr>\n",
       "  </tbody>\n",
       "</table>"
      ],
      "text/plain": [
       "<IPython.core.display.HTML object>"
      ]
     },
     "metadata": {},
     "output_type": "display_data"
    }
   ],
   "source": [
    "from IPython.display import display, HTML\n",
    "raw_html = pd.DataFrame.from_dict(df).to_html()\n",
    "display(HTML(raw_html))"
   ]
  },
  {
   "cell_type": "code",
   "execution_count": null,
   "metadata": {},
   "outputs": [],
   "source": []
  }
 ],
 "metadata": {
  "interpreter": {
   "hash": "96703b58996801c373c54e64546a2fcd29ac0a0fcc50ca7583c2c531539f59fa"
  },
  "kernelspec": {
   "display_name": "Python 3.9.12 ('simple')",
   "language": "python",
   "name": "python3"
  },
  "language_info": {
   "codemirror_mode": {
    "name": "ipython",
    "version": 3
   },
   "file_extension": ".py",
   "mimetype": "text/x-python",
   "name": "python",
   "nbconvert_exporter": "python",
   "pygments_lexer": "ipython3",
   "version": "3.9.12"
  },
  "orig_nbformat": 4
 },
 "nbformat": 4,
 "nbformat_minor": 2
}
